{
 "cells": [
  {
   "cell_type": "raw",
   "id": "414a968e",
   "metadata": {},
   "source": [
    "#take average from downstream 00:10-00:30 and average from upstream 1:10-1:30"
   ]
  },
  {
   "cell_type": "code",
   "execution_count": 9,
   "id": "f6b50e30",
   "metadata": {
    "scrolled": true
   },
   "outputs": [],
   "source": [
    "import pyspedas\n",
    "from pytplot import tplot, tplot_names, get_data, store_data\n",
    "from pyspedas.mms.mms_orbit_plot import mms_orbit_plot\n",
    "import pyspedas as ps \n",
    "from pyspedas import mms_load_fgm, mms_load_fpi\n",
    "import matplotlib.pyplot as plt\n",
    "import numpy as np\n",
    "import math\n",
    "\n",
    "\n",
    "\n",
    "\n",
    "\n"
   ]
  },
  {
   "cell_type": "code",
   "execution_count": null,
   "id": "cb45af87",
   "metadata": {},
   "outputs": [],
   "source": [
    "trange=['2018-01-10', '2018-01-11']\n",
    "\n"
   ]
  },
  {
   "cell_type": "code",
   "execution_count": 10,
   "id": "17dd87ef",
   "metadata": {},
   "outputs": [
    {
     "name": "stderr",
     "output_type": "stream",
     "text": [
      "23-Dec-21 21:31:47: Loading pydata/mms1/fgm/srvy/l2/2018/01/mms1_fgm_srvy_l2_20180110_v5.120.0.cdf\n"
     ]
    },
    {
     "name": "stdout",
     "output_type": "stream",
     "text": [
      "That name is currently not in pytplot\n",
      "That name is currently not in pytplot\n",
      "Loaded variables:\n",
      "Epoch\n",
      "mms1_fgm_b_gse_srvy_l2\n",
      "mms1_fgm_b_gsm_srvy_l2\n",
      "mms1_fgm_b_dmpa_srvy_l2\n",
      "mms1_fgm_b_bcs_srvy_l2\n",
      "mms1_fgm_flag_srvy_l2\n",
      "Epoch_state\n",
      "mms1_fgm_hirange_srvy_l2\n",
      "mms1_fgm_bdeltahalf_srvy_l2\n",
      "mms1_fgm_stemp_srvy_l2\n",
      "mms1_fgm_etemp_srvy_l2\n",
      "mms1_fgm_mode_srvy_l2\n",
      "mms1_fgm_rdeltahalf_srvy_l2\n",
      "mms1_fgm_b_dmpa_srvy_l2_bvec\n",
      "mms1_fgm_b_dmpa_srvy_l2_btot\n",
      "mms1_fgm_b_gse_srvy_l2_bvec\n",
      "mms1_fgm_b_gse_srvy_l2_btot\n",
      "mms1_fgm_b_gsm_srvy_l2_bvec\n",
      "mms1_fgm_b_gsm_srvy_l2_btot\n",
      "mms1_fgm_b_bcs_srvy_l2_bvec\n",
      "mms1_fgm_b_bcs_srvy_l2_btot\n"
     ]
    },
    {
     "name": "stderr",
     "output_type": "stream",
     "text": [
      "23-Dec-21 21:31:55: Loading pydata/mms1/fpi/fast/l2/dis-moms/2018/01/mms1_fpi_fast_l2_dis-moms_20180110000000_v3.3.0.cdf\n",
      "23-Dec-21 21:31:55: Loading pydata/mms1/fpi/fast/l2/dis-moms/2018/01/mms1_fpi_fast_l2_dis-moms_20180110020000_v3.3.0.cdf\n",
      "23-Dec-21 21:31:55: Loading pydata/mms1/fpi/fast/l2/dis-moms/2018/01/mms1_fpi_fast_l2_dis-moms_20180110040000_v3.3.0.cdf\n",
      "23-Dec-21 21:31:55: /Users/kkenta234/pyspedas/lib/python3.8/site-packages/pytplot/importers/cdf_to_tplot.py:202: DeprecationWarning: `np.float` is a deprecated alias for the builtin `float`. To silence this warning, use `float` by itself. Doing this will not modify any behavior and is safe. If you specifically wanted the numpy scalar type, use `np.float64` here.\n",
      "Deprecated in NumPy 1.20; for more details and guidance: https://numpy.org/devdocs/release/1.20.0-notes.html#deprecations\n",
      "  delta_plus_var = delta_plus_var.astype(float)*np.float(si_conv.split('>')[0])\n",
      "\n",
      "23-Dec-21 21:31:55: /Users/kkenta234/pyspedas/lib/python3.8/site-packages/pytplot/importers/cdf_to_tplot.py:214: DeprecationWarning: `np.float` is a deprecated alias for the builtin `float`. To silence this warning, use `float` by itself. Doing this will not modify any behavior and is safe. If you specifically wanted the numpy scalar type, use `np.float64` here.\n",
      "Deprecated in NumPy 1.20; for more details and guidance: https://numpy.org/devdocs/release/1.20.0-notes.html#deprecations\n",
      "  delta_minus_var = delta_minus_var.astype(float)*np.float(si_conv.split('>')[0])\n",
      "\n"
     ]
    },
    {
     "name": "stdout",
     "output_type": "stream",
     "text": [
      "That name is currently not in pytplot\n",
      "That name is currently not in pytplot\n",
      "That name is currently not in pytplot\n",
      "Loaded variables:\n",
      "mms1_dis_errorflags_fast\n",
      "mms1_dis_compressionloss_fast\n",
      "mms1_dis_startdelphi_count_fast\n",
      "mms1_dis_startdelphi_angle_fast\n",
      "mms1_dis_energyspectr_px_fast\n",
      "mms1_dis_energyspectr_mx_fast\n",
      "mms1_dis_energyspectr_py_fast\n",
      "mms1_dis_energyspectr_my_fast\n",
      "mms1_dis_energyspectr_pz_fast\n",
      "mms1_dis_energyspectr_mz_fast\n",
      "mms1_dis_energyspectr_omni_fast\n",
      "mms1_dis_spectr_bg_fast\n",
      "mms1_dis_numberdensity_bg_fast\n",
      "mms1_dis_numberdensity_fast\n",
      "mms1_dis_densityextrapolation_low_fast\n",
      "mms1_dis_densityextrapolation_high_fast\n",
      "mms1_dis_bulkv_dbcs_fast\n",
      "mms1_dis_bulkv_spintone_dbcs_fast\n",
      "mms1_dis_bulkv_gse_fast\n",
      "mms1_dis_bulkv_spintone_gse_fast\n",
      "mms1_dis_prestensor_dbcs_fast\n",
      "mms1_dis_prestensor_gse_fast\n",
      "mms1_dis_pres_bg_fast\n",
      "mms1_dis_temptensor_dbcs_fast\n",
      "mms1_dis_temptensor_gse_fast\n",
      "mms1_dis_heatq_dbcs_fast\n",
      "mms1_dis_heatq_gse_fast\n",
      "mms1_dis_temppara_fast\n",
      "mms1_dis_tempperp_fast\n"
     ]
    },
    {
     "name": "stderr",
     "output_type": "stream",
     "text": [
      "23-Dec-21 21:32:01: Loading pydata/mms1/fpi/fast/l2/des-moms/2018/01/mms1_fpi_fast_l2_des-moms_20180110000000_v3.3.0.cdf\n",
      "23-Dec-21 21:32:01: Loading pydata/mms1/fpi/fast/l2/des-moms/2018/01/mms1_fpi_fast_l2_des-moms_20180110020000_v3.3.0.cdf\n",
      "23-Dec-21 21:32:01: Loading pydata/mms1/fpi/fast/l2/des-moms/2018/01/mms1_fpi_fast_l2_des-moms_20180110040000_v3.3.0.cdf\n"
     ]
    },
    {
     "name": "stdout",
     "output_type": "stream",
     "text": [
      "Loaded variables:\n",
      "mms1_des_errorflags_fast\n",
      "mms1_des_compressionloss_fast\n",
      "mms1_des_startdelphi_count_fast\n",
      "mms1_des_startdelphi_angle_fast\n",
      "mms1_des_pitchangdist_lowen_fast\n",
      "mms1_des_pitchangdist_miden_fast\n",
      "mms1_des_pitchangdist_highen_fast\n",
      "mms1_des_energyspectr_px_fast\n",
      "mms1_des_energyspectr_mx_fast\n",
      "mms1_des_energyspectr_py_fast\n",
      "mms1_des_energyspectr_my_fast\n",
      "mms1_des_energyspectr_pz_fast\n",
      "mms1_des_energyspectr_mz_fast\n",
      "mms1_des_energyspectr_par_fast\n",
      "mms1_des_energyspectr_anti_fast\n",
      "mms1_des_energyspectr_perp_fast\n",
      "mms1_des_energyspectr_omni_fast\n",
      "mms1_des_numberdensity_fast\n",
      "mms1_des_densityextrapolation_low_fast\n",
      "mms1_des_densityextrapolation_high_fast\n",
      "mms1_des_bulkv_dbcs_fast\n",
      "mms1_des_bulkv_spintone_dbcs_fast\n",
      "mms1_des_bulkv_gse_fast\n",
      "mms1_des_bulkv_spintone_gse_fast\n",
      "mms1_des_prestensor_dbcs_fast\n",
      "mms1_des_prestensor_gse_fast\n",
      "mms1_des_temptensor_dbcs_fast\n",
      "mms1_des_temptensor_gse_fast\n",
      "mms1_des_heatq_dbcs_fast\n",
      "mms1_des_heatq_gse_fast\n",
      "mms1_des_temppara_fast\n",
      "mms1_des_tempperp_fast\n",
      "mms1_des_pitchangdist_avg\n"
     ]
    }
   ],
   "source": [
    "mms_load_fgm(trange)\n",
    "from pyspedas.mms import fpi\n",
    "ion_vars = fpi(datatype = 'dis-moms', trange=trange, center_measurement=True)\n",
    "electron_vars = fpi(datatype='des-moms', trange=trange, center_measurement=True)"
   ]
  },
  {
   "cell_type": "code",
   "execution_count": 8,
   "id": "869c0f7d",
   "metadata": {},
   "outputs": [],
   "source": [
    "tplot(['mms1_fgm_b_dmpa_srvy_l2_btot','mms1_dis_numberdensity_fast','mms1_des_numberdensity_fast','mms1_dis_bulkv_dbcs_fast','mms1_des_bulkv_dbcs_fast'])"
   ]
  }
 ],
 "metadata": {
  "kernelspec": {
   "display_name": "Python (pySPEDAS)",
   "language": "python",
   "name": "pyspedas"
  },
  "language_info": {
   "codemirror_mode": {
    "name": "ipython",
    "version": 3
   },
   "file_extension": ".py",
   "mimetype": "text/x-python",
   "name": "python",
   "nbconvert_exporter": "python",
   "pygments_lexer": "ipython3",
   "version": "3.8.8"
  }
 },
 "nbformat": 4,
 "nbformat_minor": 5
}
